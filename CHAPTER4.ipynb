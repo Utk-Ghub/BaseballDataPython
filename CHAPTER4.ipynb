{
 "cells": [
  {
   "cell_type": "markdown",
   "id": "b777a17c-1be8-4272-8ac4-7259f0b94910",
   "metadata": {},
   "source": [
    "# CHPATER 4 顧客データを分析してみよう"
   ]
  },
  {
   "cell_type": "markdown",
   "id": "93765675-c776-4c09-8751-8f61f2d373a1",
   "metadata": {},
   "source": [
    "## 4-1 売上に関する分析"
   ]
  },
  {
   "cell_type": "code",
   "execution_count": null,
   "id": "50c9e225-65bc-4800-8cf6-26a47b8cb999",
   "metadata": {},
   "outputs": [],
   "source": [
    "import japanize_matplotlib\n",
    "import pandas as pd\n",
    "import matplotlib.pyplot as plt\n",
    "\n",
    "df = pd.read_csv('2021_finance.csv')\n",
    "df"
   ]
  },
  {
   "cell_type": "code",
   "execution_count": null,
   "id": "caaa69c5-24b0-43de-905b-5caede8c5970",
   "metadata": {},
   "outputs": [],
   "source": [
    "plt.figure(figsize=(10, 6))\n",
    "plt.bar(df['チーム'], df['資産'])\n",
    "plt.title('球団別の総資産額')\n",
    "plt.show()"
   ]
  },
  {
   "cell_type": "code",
   "execution_count": null,
   "id": "4b47170c-7ee8-4bac-b8f1-46e8e71583ae",
   "metadata": {},
   "outputs": [],
   "source": [
    "df['自己資本比率'] = df['純資産'] / (df['純資産'] + df['負債'])\n",
    "df"
   ]
  },
  {
   "cell_type": "code",
   "execution_count": null,
   "id": "cea1e873-fd07-4fe1-a3bb-d832d9bf640b",
   "metadata": {},
   "outputs": [],
   "source": [
    "plt.figure(figsize=(10, 6))\n",
    "plt.bar(df['チーム'], df['自己資本比率'])\n",
    "plt.title('チーム別の自己資本比率')\n",
    "plt.show()"
   ]
  },
  {
   "cell_type": "markdown",
   "id": "7fb70cc6-c02f-4385-9b9d-d787bb34c6d4",
   "metadata": {},
   "source": [
    "## 4-2 集客に関する分析"
   ]
  },
  {
   "cell_type": "code",
   "execution_count": null,
   "id": "e2ebaf07-9a6f-4aa5-a0e9-362a6995c2fe",
   "metadata": {},
   "outputs": [],
   "source": [
    "import japanize_matplotlib\n",
    "import pandas as pd\n",
    "import matplotlib.pyplot as plt\n",
    "\n",
    "df = pd.read_csv('2022_audience.csv')\n",
    "df.head()"
   ]
  },
  {
   "cell_type": "code",
   "execution_count": null,
   "id": "9a810508-239f-4c95-a92a-b8cdeb7ed296",
   "metadata": {},
   "outputs": [],
   "source": [
    "df_home = df[df['本拠地']==True]\n",
    "df_home['球場'].value_counts()"
   ]
  },
  {
   "cell_type": "code",
   "execution_count": null,
   "id": "5ee3514e-878a-4e3a-80df-72abd069c3eb",
   "metadata": {},
   "outputs": [],
   "source": [
    "stadiums = [\n",
    "    'PayPayドーム', 'ベルーナドーム', '楽天生命パーク', '京セラドーム', 'ZOZOマリン', '札幌ドーム',\n",
    "    '横浜スタジアム', '東京ドーム', '神宮', 'マツダスタジアム', 'バンテリンドーム',  '甲子園']"
   ]
  },
  {
   "cell_type": "code",
   "execution_count": null,
   "id": "75c23cf8-7683-4317-8f52-6c6c72413d50",
   "metadata": {},
   "outputs": [],
   "source": [
    "stadium_average = []\n",
    "\n",
    "for stadium in stadiums:\n",
    "    stadium_data = df_home[df_home['球場']==stadium]\n",
    "    average = stadium_data['観客動員数'].mean()\n",
    "    stadium_average.append(average)\n",
    "\n",
    "stadium_average"
   ]
  },
  {
   "cell_type": "code",
   "execution_count": null,
   "id": "11368052-667c-47c2-bfbf-19eb113ec8db",
   "metadata": {},
   "outputs": [],
   "source": [
    "plt.figure(figsize=(20, 8))\n",
    "plt.bar(stadiums, stadium_average)\n",
    "plt.title('球場別の観客動員数')\n",
    "plt.show()"
   ]
  },
  {
   "cell_type": "code",
   "execution_count": null,
   "id": "95e99beb-502a-47a4-979e-df7a47586708",
   "metadata": {},
   "outputs": [],
   "source": [
    "days = list('月火水木金土日')\n",
    "\n",
    "day_average = []\n",
    "\n",
    "for day in days:\n",
    "    day_data = df_home[df_home['曜日']==day]\n",
    "    average = day_data['観客動員数'].mean()\n",
    "    day_average.append(average)\n",
    "\n",
    "day_average"
   ]
  },
  {
   "cell_type": "code",
   "execution_count": null,
   "id": "18f16daa-d5c1-4606-9dab-c70789d0dbb1",
   "metadata": {},
   "outputs": [],
   "source": [
    "plt.plot(days, day_average)\n",
    "plt.title('曜日別の観客動員数')\n",
    "plt.show()"
   ]
  },
  {
   "cell_type": "code",
   "execution_count": null,
   "id": "0b3cfa45-843c-4817-be0c-c9905160871d",
   "metadata": {},
   "outputs": [],
   "source": [
    "central_teams = list('阪広D巨ヤ中')\n",
    "central_teams"
   ]
  },
  {
   "cell_type": "code",
   "execution_count": null,
   "id": "b6d1cfdd-6d69-424a-a998-3b8043dbb5f9",
   "metadata": {},
   "outputs": [],
   "source": [
    "central_numbers = []\n",
    "\n",
    "for home in central_teams:\n",
    "    home_data = df[df['Hチーム']==home]\n",
    "    lst = []\n",
    "    for visitor in central_teams:\n",
    "        home_visitor_data = home_data[home_data['Vチーム']==visitor]\n",
    "        average = home_visitor_data['観客動員数'].mean()\n",
    "        lst.append(average)\n",
    "    central_numbers.append(lst)\n",
    "\n",
    "central_numbers"
   ]
  },
  {
   "cell_type": "code",
   "execution_count": null,
   "id": "cba8ddab-509d-443d-bc24-7bd960a257f1",
   "metadata": {},
   "outputs": [],
   "source": [
    "plt.figure(figsize=(8, 8))\n",
    "plt.imshow(central_numbers, cmap='OrRd')\n",
    "\n",
    "plt.colorbar()\n",
    "plt.title('対戦カード別の平均観客動員数（セリーグ）')\n",
    "plt.xticks([0, 1, 2, 3, 4, 5], central_teams)\n",
    "plt.yticks([0, 1, 2, 3, 4, 5], central_teams)\n",
    "plt.xlabel('ビジターチーム')\n",
    "plt.ylabel('ホームチーム')\n",
    "plt.show()"
   ]
  },
  {
   "cell_type": "markdown",
   "id": "5fce8ff9-16b6-4330-bc0f-a8f511d415c8",
   "metadata": {},
   "source": [
    "## 4-3 SNSに関する分析"
   ]
  },
  {
   "cell_type": "code",
   "execution_count": null,
   "id": "d3a48a06-f47a-4c88-a7b0-f497f28c970e",
   "metadata": {},
   "outputs": [],
   "source": [
    "import japanize_matplotlib\n",
    "import pandas as pd\n",
    "import matplotlib.pyplot as plt\n",
    "\n",
    "df = pd.read_csv('X_data.csv')\n",
    "df.head()"
   ]
  },
  {
   "cell_type": "code",
   "execution_count": null,
   "id": "afa918f1-f531-4967-a9ca-3bb8d0cfb697",
   "metadata": {},
   "outputs": [],
   "source": [
    "plt.plot(df['インプレッション'])\n",
    "plt.title('インプレッション数の推移')\n",
    "plt.xlabel('ポスト数')\n",
    "plt.ylabel('インプレッション数')\n",
    "plt.ylim(0, 5000)\n",
    "plt.show()"
   ]
  },
  {
   "cell_type": "code",
   "execution_count": null,
   "id": "d5b178a5-d448-4e24-84c4-77f9cc381420",
   "metadata": {},
   "outputs": [],
   "source": [
    "plt.plot(df['エンゲージメント'])\n",
    "plt.title('エンゲージメント数の推移')\n",
    "plt.xlabel('ポスト数')\n",
    "plt.ylabel('エンゲージメント数')\n",
    "plt.ylim(0, 2000)\n",
    "plt.show()"
   ]
  },
  {
   "cell_type": "code",
   "execution_count": null,
   "id": "8618bf52-49d9-44be-96ba-beab9b545102",
   "metadata": {},
   "outputs": [],
   "source": [
    "plt.scatter(df['インプレッション'], df['エンゲージメント'], alpha=0.5)\n",
    "plt.title('インプレッションとエンゲージメントの関係')\n",
    "plt.xlabel('インプレッション')\n",
    "plt.ylabel('エンゲージメント')\n",
    "plt.xlim(0, 1000)\n",
    "plt.ylim(0, 500)\n",
    "plt.show()"
   ]
  },
  {
   "cell_type": "code",
   "execution_count": null,
   "id": "32106297-e100-4a23-8153-d506f6482ea6",
   "metadata": {},
   "outputs": [],
   "source": [
    "x, y = [], []\n",
    "for i in range(24):\n",
    "    x.append(i)\n",
    "    time_tweet = df[df['時']==i]\n",
    "    y.append(time_tweet['インプレッション'].mean())\n",
    "\n",
    "plt.bar(x, y)\n",
    "plt.title('時間帯別の平均インプレッション数')\n",
    "plt.xlabel('時間帯')\n",
    "plt.ylabel('平均インプレッション数')\n",
    "plt.show()"
   ]
  },
  {
   "cell_type": "code",
   "execution_count": null,
   "id": "06b9e693-77cf-49b8-99cb-61d8cd53cd14",
   "metadata": {},
   "outputs": [],
   "source": [
    "x, y = [], []\n",
    "for i in range(24):\n",
    "    x.append(i)\n",
    "    time_tweet = df[df['時']==i]\n",
    "    y.append(len(time_tweet))\n",
    "\n",
    "plt.bar(x, y)\n",
    "plt.title('時間帯別のポスト数')\n",
    "plt.xlabel('時間帯')\n",
    "plt.ylabel('ポスト数')\n",
    "plt.show()"
   ]
  },
  {
   "cell_type": "code",
   "execution_count": null,
   "id": "140c6d9a-6b75-4c34-af8d-3e05b066752f",
   "metadata": {},
   "outputs": [],
   "source": []
  }
 ],
 "metadata": {
  "kernelspec": {
   "display_name": "Python 3 (ipykernel)",
   "language": "python",
   "name": "python3"
  },
  "language_info": {
   "codemirror_mode": {
    "name": "ipython",
    "version": 3
   },
   "file_extension": ".py",
   "mimetype": "text/x-python",
   "name": "python",
   "nbconvert_exporter": "python",
   "pygments_lexer": "ipython3",
   "version": "3.11.5"
  }
 },
 "nbformat": 4,
 "nbformat_minor": 5
}
