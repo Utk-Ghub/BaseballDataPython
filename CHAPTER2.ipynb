{
 "cells": [
  {
   "cell_type": "markdown",
   "id": "b8e02e46-da11-47ac-a20b-3e9537d00e01",
   "metadata": {},
   "source": [
    "# CHAPTER2 データからグラフを作成してみよう"
   ]
  },
  {
   "cell_type": "markdown",
   "id": "29c61201-fef2-4ad0-8895-33713641db62",
   "metadata": {},
   "source": [
    "## 2-1 分析に必要な知識の習得"
   ]
  },
  {
   "cell_type": "code",
   "execution_count": null,
   "id": "93f1bda2-ea50-4dff-a4f4-c4253fd2260d",
   "metadata": {},
   "outputs": [],
   "source": [
    "# !pip install pybaseball\n",
    "from pybaseball import statcast"
   ]
  },
  {
   "cell_type": "code",
   "execution_count": null,
   "id": "63bd0409-da24-4392-bb87-977126b196f5",
   "metadata": {},
   "outputs": [],
   "source": [
    "data = statcast(start_dt = '2022-04-01', end_dt='2022-09-30')\n",
    "data.head()"
   ]
  },
  {
   "cell_type": "code",
   "execution_count": null,
   "id": "efb37f62-79c8-438e-9bf5-86959967d7d3",
   "metadata": {},
   "outputs": [],
   "source": [
    "import os\n",
    "\n",
    "data_ohtani = data[data['player_name']=='Ohtani, Shohei']\n",
    "data_ohtani.to_csv('2022_Ohtani.csv')\n",
    "data_ohtani.head()"
   ]
  },
  {
   "cell_type": "markdown",
   "id": "597ec7c0-b2a6-4e90-b664-61febb2f4cd0",
   "metadata": {},
   "source": [
    "## 2-2 投球の球種割合を表す円グラフ"
   ]
  },
  {
   "cell_type": "code",
   "execution_count": null,
   "id": "0f8c0d35-d12f-41db-b559-f18e377c61f2",
   "metadata": {},
   "outputs": [],
   "source": [
    "# !pip install japanize_matplotlib\n",
    "import japanize_matplotlib\n",
    "import pandas as pd\n",
    "import matplotlib.pyplot as plt"
   ]
  },
  {
   "cell_type": "code",
   "execution_count": null,
   "id": "2e152ee4-9f83-40e9-b283-3c7284c218b7",
   "metadata": {},
   "outputs": [],
   "source": [
    "df = pd.read_csv('2022_Ohtani.csv')\n",
    "df"
   ]
  },
  {
   "cell_type": "code",
   "execution_count": null,
   "id": "865e9af3-54b5-458c-b692-1787795f5afb",
   "metadata": {},
   "outputs": [],
   "source": [
    "counts = df['pitch_type'].value_counts()\n",
    "plt.pie(counts, labels=counts.index, counterclock=False, startangle=90)\n",
    "plt.title('大谷投手の球種割合')\n",
    "plt.show()"
   ]
  },
  {
   "cell_type": "markdown",
   "id": "349b2179-a52f-48e4-84c3-29c9739c5765",
   "metadata": {},
   "source": [
    "## 2-3 球種ごとの平均球速を表す棒グラフ"
   ]
  },
  {
   "cell_type": "code",
   "execution_count": null,
   "id": "b034b7d3-8177-43ee-b1ae-b1c9b2f7e75f",
   "metadata": {},
   "outputs": [],
   "source": [
    "import japanize_matplotlib\n",
    "import pandas as pd\n",
    "import matplotlib.pyplot as plt\n",
    "\n",
    "df = pd.read_csv('2022_Ohtani.csv')\n",
    "df"
   ]
  },
  {
   "cell_type": "code",
   "execution_count": null,
   "id": "b5f58e66-6cc4-421b-9ccd-94338bfe5f52",
   "metadata": {},
   "outputs": [],
   "source": [
    "df['speed_km'] = df['release_speed'] * 1.61\n",
    "df.head()"
   ]
  },
  {
   "cell_type": "code",
   "execution_count": null,
   "id": "b2806517-119b-4f45-a2a2-0409df714916",
   "metadata": {},
   "outputs": [],
   "source": [
    "Fastball = df[df['pitch_type']=='FF'] #ストレート\n",
    "Cutter = df[df['pitch_type']=='FC'] #カット\n",
    "Sweeper = df[df['pitch_type']=='ST'] #スイーパー\n",
    "Curve = df[df['pitch_type']=='CU'] #カーブ\n",
    "Splitter = df[df['pitch_type']=='FS'] #スプリット\n",
    "\n",
    "x = ['ストレート', 'カット', 'スイーパー', 'カーブ', 'スプリット']\n",
    "y = [Fastball['speed_km'].mean(),\n",
    "     Cutter['speed_km'].mean(),\n",
    "     Sweeper['speed_km'].mean(),\n",
    "     Curve['speed_km'].mean(),\n",
    "     Splitter['speed_km'].mean()]\n",
    "\n",
    "plt.bar(x, y)\n",
    "plt.title('球種ごとの平均球速')\n",
    "plt.ylim(110, 170)\n",
    "plt.show()"
   ]
  },
  {
   "cell_type": "markdown",
   "id": "3529db7f-de31-4ac0-ba6d-362561cbb654",
   "metadata": {},
   "source": [
    "## 2-4 イニングごとの平均球速を表す折れ線グラフ"
   ]
  },
  {
   "cell_type": "code",
   "execution_count": null,
   "id": "29ba1ba5-afad-4874-93e6-270cba99adfc",
   "metadata": {},
   "outputs": [],
   "source": [
    "import japanize_matplotlib\n",
    "import pandas as pd\n",
    "import matplotlib.pyplot as plt\n",
    "\n",
    "df = pd.read_csv('2022_Ohtani.csv')\n",
    "df.head()"
   ]
  },
  {
   "cell_type": "code",
   "execution_count": null,
   "id": "8c563900-c9ea-4216-9db0-7a44f999df94",
   "metadata": {},
   "outputs": [],
   "source": [
    "df['speed_km'] = df['release_speed'] * 1.61\n",
    "df.head()"
   ]
  },
  {
   "cell_type": "code",
   "execution_count": null,
   "id": "34197b87-0744-495d-bae2-32be836d999c",
   "metadata": {},
   "outputs": [],
   "source": [
    "Fastball = df[df['pitch_type']=='FF']\n",
    "Fastball.head()"
   ]
  },
  {
   "cell_type": "code",
   "execution_count": null,
   "id": "33a318c3-9c71-4b90-bcf7-8920c385ec95",
   "metadata": {},
   "outputs": [],
   "source": [
    "x, y = [], []\n",
    "\n",
    "for i in range(1, 10):\n",
    "    inning = Fastball[Fastball['inning']==i]\n",
    "    x.append(i)\n",
    "    y.append(inning['speed_km'].mean())\n",
    "\n",
    "y"
   ]
  },
  {
   "cell_type": "code",
   "execution_count": null,
   "id": "aad98ce3-d7c1-4df3-a0dd-3f32176d499f",
   "metadata": {},
   "outputs": [],
   "source": [
    "plt.plot(x, y)\n",
    "plt.title('イニングごとのストレート平均球速')\n",
    "plt.xlabel('イニング（回）')\n",
    "plt.ylabel('ストレートの平均球速（km/h）')\n",
    "plt.show()"
   ]
  },
  {
   "cell_type": "markdown",
   "id": "a8c7e7ee-88b0-4386-a233-19e749cef93e",
   "metadata": {},
   "source": [
    "## 2-5 球種ごとの球速分布を表すヒストグラム"
   ]
  },
  {
   "cell_type": "code",
   "execution_count": null,
   "id": "1e8f862d-4300-43e3-ad53-60c34e6dca4c",
   "metadata": {},
   "outputs": [],
   "source": [
    "import japanize_matplotlib\n",
    "import pandas as pd\n",
    "import matplotlib.pyplot as plt\n",
    "\n",
    "df = pd.read_csv('2022_Ohtani.csv')\n",
    "df['speed_km'] = df['release_speed'] * 1.61\n",
    "\n",
    "Fastball = df[df['pitch_type']=='FF'] #ストレート\n",
    "Cutter = df[df['pitch_type']=='FC'] #カット\n",
    "Sweeper = df[df['pitch_type']=='ST'] #スイーパー\n",
    "Curve = df[df['pitch_type']=='CU'] #カーブ\n",
    "Splitter = df[df['pitch_type']=='FS'] #スプリット\n",
    "\n",
    "border = [110, 115, 120, 125, 130, 135, 140, 145, 150, 155, 160, 165]\n",
    "\n",
    "plt.hist(Fastball['speed_km'], alpha=0.7, hatch='/', label='ストレート', bins=border)\n",
    "plt.hist(Cutter['speed_km'], alpha=0.7, hatch='o', label='カット', bins=border)\n",
    "plt.hist(Sweeper['speed_km'], alpha=0.7, hatch='.', label='スイーパー', bins=border)\n",
    "plt.hist(Curve['speed_km'], alpha=0.7, hatch='-', label='カーブ', bins=border)\n",
    "plt.hist(Splitter['speed_km'], alpha=0.7, hatch='*', label='スプリット', bins=border)\n",
    "\n",
    "plt.title('球種ごとの球速分布')\n",
    "plt.xlabel('球速（km/h）')\n",
    "plt.ylabel('投球数')\n",
    "plt.legend(loc='upper left')\n",
    "plt.show()"
   ]
  },
  {
   "cell_type": "markdown",
   "id": "2999819c-8738-4abf-a88a-792b0bf89342",
   "metadata": {},
   "source": [
    "## 2-6 投球の到達位置を表す散布図"
   ]
  },
  {
   "cell_type": "code",
   "execution_count": null,
   "id": "02ae6089-2585-4ed4-b1d5-1cbc2a879fee",
   "metadata": {},
   "outputs": [],
   "source": [
    "import japanize_matplotlib\n",
    "import pandas as pd\n",
    "import matplotlib.pyplot as plt\n",
    "\n",
    "df = pd.read_csv('2022_Ohtani.csv')\n",
    "df['plate_x_cm'] = df['plate_x'] * 30.48\n",
    "df['plate_z_cm'] = df['plate_z'] * 30.48\n",
    "df.head()"
   ]
  },
  {
   "cell_type": "code",
   "execution_count": null,
   "id": "8f07f65d-11ce-4cd2-a152-b0d2a4922399",
   "metadata": {},
   "outputs": [],
   "source": [
    "Fastball = df[df['pitch_type']=='FF']\n",
    "Fastball.head()"
   ]
  },
  {
   "cell_type": "code",
   "execution_count": null,
   "id": "5d3410b6-39db-4089-a738-ea7fa532464d",
   "metadata": {},
   "outputs": [],
   "source": [
    "plt.figure(figsize=(10,10))\n",
    "plt.scatter(Fastball['plate_x_cm'], Fastball['plate_z_cm'])\n",
    "\n",
    "plt.title('ストレートの投球位置（捕手目線）')\n",
    "plt.xlabel('投球のコース（cm）')\n",
    "plt.ylabel('投球の高さ（cm）')\n",
    "plt.xlim(-80, 80)\n",
    "plt.ylim(0, 150)\n",
    "plt.hlines(y=[50, 110], xmin=-30, xmax=30, color='black')\n",
    "plt.vlines(x=[-30, 30], ymin=50, ymax=110, color='black')\n",
    "plt.show()"
   ]
  },
  {
   "cell_type": "code",
   "execution_count": null,
   "id": "ac398f16-9816-4af3-88e9-3b4a3d569150",
   "metadata": {},
   "outputs": [],
   "source": [
    "Swinging = Fastball[Fastball['description'].isin(['swinging_strike', 'swinging_strike_blocked'])]\n",
    "Called = Fastball[Fastball['description']=='called_strike']\n",
    "\n",
    "plt.figure(figsize=(10,10))\n",
    "plt.scatter(Swinging['plate_x_cm'], Swinging['plate_z_cm'], color='red', label='空振り')\n",
    "plt.scatter(Called['plate_x_cm'], Called['plate_z_cm'], color='blue', label='見逃し')\n",
    "\n",
    "plt.title('ストレートの投球位置')\n",
    "plt.xlabel('投球のコース（cm）')\n",
    "plt.ylabel('投球の高さ（cm）')\n",
    "plt.legend(loc='upper right')\n",
    "plt.hlines(y=[50, 110], xmin=-30, xmax=30, color='black')\n",
    "plt.vlines(x=[-30, 30], ymin=50, ymax=110, color='black')\n",
    "plt.xlim(-80, 80)\n",
    "plt.ylim(0, 150)\n",
    "plt.show()"
   ]
  },
  {
   "cell_type": "markdown",
   "id": "0010d4ed-a2fe-4ad8-959b-d8bd99ad7adb",
   "metadata": {},
   "source": [
    "## 2-7 投球の到達位置を表すヒートマップ"
   ]
  },
  {
   "cell_type": "code",
   "execution_count": null,
   "id": "894203b5-7d3d-4bc3-8499-5aeab0f19fd8",
   "metadata": {},
   "outputs": [],
   "source": [
    "import japanize_matplotlib\n",
    "import pandas as pd\n",
    "import matplotlib.pyplot as plt\n",
    "\n",
    "df = pd.read_csv('2022_Ohtani.csv')\n",
    "df['plate_x_cm'] = df['plate_x'] * 30.48\n",
    "df['plate_z_cm'] = df['plate_z'] * 30.48\n",
    "\n",
    "Fastball = df[df['pitch_type']=='FF']\n",
    "\n",
    "location = [[0, 0, 0], [0, 0, 0], [0, 0, 0]]\n",
    "total = 0\n",
    "for height, side in zip(Fastball['plate_z_cm'], Fastball['plate_x_cm']):\n",
    "    \n",
    "    if height < 50 or 110 < height:\n",
    "        continue\n",
    "    if side < -30 or 30 < side:\n",
    "        continue\n",
    "    \n",
    "    if 90 < height <= 110:\n",
    "        h = 0\n",
    "    elif 70 <= height <= 90:\n",
    "        h = 1\n",
    "    elif 50 <= height < 70:\n",
    "        h = 2\n",
    "\n",
    "    if -30 <= side < -10:\n",
    "        s = 0\n",
    "    elif -10 <= side <= 10:\n",
    "        s = 1\n",
    "    elif 10 < side <= 30:\n",
    "        s = 2\n",
    "\n",
    "    location[h][s] += 1\n",
    "    total += 1\n",
    "\n",
    "location"
   ]
  },
  {
   "cell_type": "code",
   "execution_count": null,
   "id": "d0e94b8d-d4ca-435e-8c4a-a958a6bd7e8a",
   "metadata": {},
   "outputs": [],
   "source": [
    "ratio = []\n",
    "\n",
    "for lst in location:\n",
    "    add = [num/total for num in lst]\n",
    "    ratio.append(add)\n",
    "\n",
    "ratio"
   ]
  },
  {
   "cell_type": "code",
   "execution_count": null,
   "id": "5954c961-34d2-4dd3-b944-258387803602",
   "metadata": {},
   "outputs": [],
   "source": [
    "plt.figure(figsize=(8, 8))\n",
    "plt.imshow(ratio, cmap='OrRd')\n",
    "\n",
    "plt.colorbar()\n",
    "plt.clim(0, 0.2)\n",
    "plt.title('ストレートのコース別投球割合')\n",
    "plt.xticks([0, 1, 2], ['三塁側', '真ん中', '一塁側'])\n",
    "plt.yticks([0, 1, 2], ['高め', '真ん中', '低め'])\n",
    "plt.show()"
   ]
  },
  {
   "cell_type": "code",
   "execution_count": null,
   "id": "c21f6319-dd69-4c18-b879-1ee006b8230f",
   "metadata": {},
   "outputs": [],
   "source": [
    "def create_heatmap(data, title):\n",
    "    # コース別に集計するためのリスト作成\n",
    "    location = [[0, 0, 0], [0, 0, 0], [0, 0, 0]]\n",
    "    sum = 0\n",
    "\n",
    "    for height, side in zip(Fastball['plate_z_cm'], Fastball['plate_x_cm']):\n",
    "        \n",
    "        if height < 50 or 110 < height:\n",
    "            continue\n",
    "        if side < -30 or 30 < side:\n",
    "            continue\n",
    "        \n",
    "        if 90 < height <= 110:\n",
    "            h = 0\n",
    "        elif 70 <= height <= 90:\n",
    "            h = 1\n",
    "        elif 50 <= height < 70:\n",
    "            h = 2\n",
    "    \n",
    "        if -30 <= side < -10:\n",
    "            s = 0\n",
    "        elif -10 <= side <= 10:\n",
    "            s = 1\n",
    "        elif 10 < side <= 30:\n",
    "            s = 2\n",
    "    \n",
    "        location[h][s] += 1\n",
    "        sum += 1\n",
    "\n",
    "    # コース別の投球割合を計算\n",
    "    ratio = []\n",
    "\n",
    "    for lst in location:\n",
    "        add = [num/sum for num in lst]\n",
    "        ratio.append(add)\n",
    "\n",
    "    # ヒートマップの作成\n",
    "    plt.figure(figsize=(8, 8))\n",
    "    plt.imshow(ratio, cmap='OrRd')\n",
    "\n",
    "    # 見た目の調整\n",
    "    plt.colorbar()\n",
    "    plt.clim(0, 0.2)\n",
    "    plt.title(title)\n",
    "    plt.xticks([0, 1, 2], ['三塁側', '真ん中', '一塁側'])\n",
    "    plt.yticks([0, 1, 2], ['高め', '真ん中', '低め'])\n",
    "    plt.show()"
   ]
  },
  {
   "cell_type": "code",
   "execution_count": null,
   "id": "a3285299-9f65-46af-848b-2195bff46876",
   "metadata": {},
   "outputs": [],
   "source": [
    "Fastball_Right = Fastball[Fastball['stand']=='R']\n",
    "Fastball_Left = Fastball[Fastball['stand']=='L']\n",
    "\n",
    "create_heatmap(Fastball_Right, 'ストレートのコース別投球割合（対右打者）')\n",
    "create_heatmap(Fastball_Left, 'ストレートのコース別投球割合（対左打者）')"
   ]
  },
  {
   "cell_type": "markdown",
   "id": "5a76fc99-463c-4909-a1dd-ffc2725fce15",
   "metadata": {},
   "source": [
    "## 2-8 リリースポイントを表す箱ひげ図"
   ]
  },
  {
   "cell_type": "code",
   "execution_count": null,
   "id": "be2f919f-e954-495f-ad8c-790da813c3b1",
   "metadata": {},
   "outputs": [],
   "source": [
    "import japanize_matplotlib\n",
    "import pandas as pd\n",
    "import matplotlib.pyplot as plt\n",
    "\n",
    "df = pd.read_csv('2022_Ohtani.csv')\n",
    "df['release_pos_x_cm'] = df['release_pos_x'] * 30.48\n",
    "df['release_pos_z_cm'] = df['release_pos_z'] * 30.48\n",
    "\n",
    "Fastball = df[df['pitch_type']=='FF'] #ストレート\n",
    "Sweeper = df[df['pitch_type']=='ST'] #スイーパー\n",
    "Splitter = df[df['pitch_type']=='FS'] #スプリット\n",
    "Curve = df[df['pitch_type']=='CU'] #カーブ\n",
    "\n",
    "plt.boxplot([Fastball['release_pos_z_cm'],\n",
    "             Sweeper['release_pos_z_cm'],\n",
    "             Splitter['release_pos_z_cm'],\n",
    "             Curve['release_pos_z_cm']],\n",
    "             labels=['ストレート', 'スイーパー', 'スプリット', 'カーブ'])\n",
    "plt.ylabel('上下リリース位置（cm）')\n",
    "plt.title('球種別のリリース位置（高さ）')\n",
    "plt.show()"
   ]
  },
  {
   "cell_type": "code",
   "execution_count": null,
   "id": "fae46955-5295-49b3-b14b-198a41c6fc3c",
   "metadata": {},
   "outputs": [],
   "source": [
    "plt.boxplot([Fastball['release_pos_z_cm'],\n",
    "             Sweeper['release_pos_z_cm'],\n",
    "             Splitter['release_pos_z_cm'],\n",
    "             Curve['release_pos_z_cm']],\n",
    "             labels=['ストレート', 'スイーパー', 'スプリット', 'カーブ'],\n",
    "             vert=False)\n",
    "plt.ylabel('上下リリース位置（cm）')\n",
    "plt.title('球種別のリリース位置（高さ）')\n",
    "plt.show()"
   ]
  },
  {
   "cell_type": "code",
   "execution_count": null,
   "id": "cd8b298f-561d-4dfe-978c-8a1f03e3df24",
   "metadata": {},
   "outputs": [],
   "source": []
  }
 ],
 "metadata": {
  "kernelspec": {
   "display_name": "Python 3 (ipykernel)",
   "language": "python",
   "name": "python3"
  },
  "language_info": {
   "codemirror_mode": {
    "name": "ipython",
    "version": 3
   },
   "file_extension": ".py",
   "mimetype": "text/x-python",
   "name": "python",
   "nbconvert_exporter": "python",
   "pygments_lexer": "ipython3",
   "version": "3.11.5"
  }
 },
 "nbformat": 4,
 "nbformat_minor": 5
}
