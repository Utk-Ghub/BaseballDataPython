{
 "cells": [
  {
   "cell_type": "code",
   "execution_count": null,
   "id": "0458e515-cde5-4986-8178-407c42f74517",
   "metadata": {},
   "outputs": [],
   "source": [
    "import matplotlib.pyplot as plt\n",
    "import os\n",
    "import pandas as pd\n",
    "\n",
    "import japanize_matplotlib\n",
    "import pybaseball\n",
    "from pybaseball import statcast\n",
    "\n",
    "pybaseball.cache.enable()\n",
    "data = statcast(start_dt = '2008-04-01', end_dt='2008-09-30')\n",
    "data[data['player_name'].str.contains('Johnson, Randy')]"
   ]
  },
  {
   "cell_type": "code",
   "execution_count": null,
   "id": "37b6b075-77f4-41b2-92d0-44f6576b0f16",
   "metadata": {},
   "outputs": [],
   "source": [
    "data_randy = data[data['player_name']=='Johnson, Randy']\n",
    "data_randy.to_csv('2008_Randy.csv')\n",
    "data_randy.head()"
   ]
  },
  {
   "cell_type": "code",
   "execution_count": null,
   "id": "276b697a-ab2c-4a6a-b1ef-c7aef36c3a90",
   "metadata": {},
   "outputs": [],
   "source": [
    "df = pd.read_csv('2008_Randy.csv')\n",
    "df"
   ]
  },
  {
   "cell_type": "code",
   "execution_count": null,
   "id": "6675be71-59c6-47cb-9f14-7d1de2fcccd5",
   "metadata": {},
   "outputs": [],
   "source": [
    "counts = df['pitch_type'].value_counts()\n",
    "plt.pie(counts, labels=counts.index, counterclock=False, startangle=90)\n",
    "plt.title('Randyの球種割合')\n",
    "plt.show()"
   ]
  },
  {
   "cell_type": "code",
   "execution_count": null,
   "id": "821da9dc-9767-46d1-bae3-72f82440d395",
   "metadata": {},
   "outputs": [],
   "source": [
    "print(df['pitch_type'].unique())"
   ]
  },
  {
   "cell_type": "code",
   "execution_count": null,
   "id": "18c984fe-19ff-448f-9423-996f0a32ba1d",
   "metadata": {},
   "outputs": [],
   "source": [
    "print(df['pitch_type'].value_counts())"
   ]
  },
  {
   "cell_type": "code",
   "execution_count": null,
   "id": "6eae793a-15b2-4ad9-abc0-dadac6778d1a",
   "metadata": {},
   "outputs": [],
   "source": [
    "print(df['pitch_type'].isnull().sum())"
   ]
  },
  {
   "cell_type": "code",
   "execution_count": null,
   "id": "e09d48a0-73d6-440f-86be-0e3517a3f2b7",
   "metadata": {},
   "outputs": [],
   "source": [
    "df['speed_km'] = df['release_speed'] * 1.61\n",
    "df.head()"
   ]
  },
  {
   "cell_type": "code",
   "execution_count": null,
   "id": "ec3ccc3b-1781-48a0-8e7e-5f739f6ce17a",
   "metadata": {},
   "outputs": [],
   "source": [
    "print(df['speed_km'].max(), df['speed_km'].min())"
   ]
  },
  {
   "cell_type": "code",
   "execution_count": null,
   "id": "1ad02de1-200c-4403-83a2-70c467e16f2e",
   "metadata": {},
   "outputs": [],
   "source": [
    "Fastball = df[df['pitch_type']=='FF'] #ストレート\n",
    "Slider = df[df['pitch_type']=='SL'] #スライダー\n",
    "Sinker = df[df['pitch_type']=='SI'] #シンカー\n",
    "Splitter = df[df['pitch_type']=='FS'] #スプリット\n",
    "\n",
    "x = ['ストレート', 'スライダー', 'シンカー', 'スプリット']\n",
    "y = [Fastball['speed_km'].mean(),\n",
    "     Slider['speed_km'].mean(),\n",
    "     Sinker['speed_km'].mean(),\n",
    "     Splitter['speed_km'].mean()]\n",
    "\n",
    "plt.bar(x, y)\n",
    "plt.title('球種ごとの平均球速')\n",
    "plt.ylim(110, 160)\n",
    "plt.show()"
   ]
  },
  {
   "cell_type": "code",
   "execution_count": null,
   "id": "70f69d03-9b11-421c-88b6-fb0c1135a289",
   "metadata": {},
   "outputs": [],
   "source": [
    "x, y = [], []\n",
    "\n",
    "for i in range(1, 10):\n",
    "    inning = Fastball[Fastball['inning']==i]\n",
    "    x.append(i)\n",
    "    y.append(inning['speed_km'].mean())\n",
    "\n",
    "y"
   ]
  },
  {
   "cell_type": "code",
   "execution_count": null,
   "id": "b3095bf0-2683-4e59-9ca2-dbc12d2bf7c1",
   "metadata": {},
   "outputs": [],
   "source": [
    "plt.plot(x, y)\n",
    "plt.title('イニングごとのストレート平均球速')\n",
    "plt.xlabel('イニング（回）')\n",
    "plt.ylabel('ストレートの平均球速（km/h）')\n",
    "plt.show()"
   ]
  },
  {
   "cell_type": "code",
   "execution_count": null,
   "id": "627d2d19-1a9e-4b01-b484-dfc07a3854a0",
   "metadata": {},
   "outputs": [],
   "source": [
    "border = [110, 115, 120, 125, 130, 135, 140, 145, 150, 155, 160, 165]\n",
    "\n",
    "Fastball = df[df['pitch_type']=='FF'] #ストレート\n",
    "Slider = df[df['pitch_type']=='SL'] #スライダー\n",
    "Sinker = df[df['pitch_type']=='SI'] #シンカー\n",
    "Splitter = df[df['pitch_type']=='FS'] #スプリット\n",
    "\n",
    "plt.hist(Fastball['speed_km'], alpha=0.7, hatch='/', label='ストレート', bins=border)\n",
    "plt.hist(Slider['speed_km'], alpha=0.7, hatch='o', label='スライダー', bins=border)\n",
    "plt.hist(Sinker['speed_km'], alpha=0.7, hatch='.', label='シンカー', bins=border)\n",
    "plt.hist(Splitter['speed_km'], alpha=0.7, hatch='*', label='スプリット', bins=border)\n",
    "\n",
    "plt.title('球種ごとの球速分布')\n",
    "plt.xlabel('球速（km/h）')\n",
    "plt.ylabel('投球数')\n",
    "plt.legend(loc='upper left')\n",
    "plt.show()"
   ]
  },
  {
   "cell_type": "code",
   "execution_count": null,
   "id": "4cf2f051-143e-412c-b3ca-a0619f7192cf",
   "metadata": {},
   "outputs": [],
   "source": [
    "df['plate_x_cm'] = df['plate_x'] * 30.48\n",
    "df['plate_z_cm'] = df['plate_z'] * 30.48\n",
    "df.head()"
   ]
  },
  {
   "cell_type": "code",
   "execution_count": null,
   "id": "44376227-0657-4a99-bf0b-994e17e2e42f",
   "metadata": {},
   "outputs": [],
   "source": [
    "Fastball = df[df['pitch_type']=='FF']\n",
    "Fastball.head()"
   ]
  },
  {
   "cell_type": "code",
   "execution_count": null,
   "id": "4cca9acf-a007-4b53-9896-9034f89a9e28",
   "metadata": {},
   "outputs": [],
   "source": [
    "plt.figure(figsize=(10,10))\n",
    "plt.scatter(Fastball['plate_x_cm'], Fastball['plate_z_cm'])\n",
    "\n",
    "plt.title('ストレートの投球位置（捕手目線）')\n",
    "plt.xlabel('投球のコース（cm）')\n",
    "plt.ylabel('投球の高さ（cm）')\n",
    "plt.xlim(-80, 80)\n",
    "plt.ylim(0, 150)\n",
    "plt.hlines(y=[50, 110], xmin=-30, xmax=30, color='black')\n",
    "plt.vlines(x=[-30, 30], ymin=50, ymax=110, color='black')\n",
    "plt.show()"
   ]
  },
  {
   "cell_type": "code",
   "execution_count": null,
   "id": "6073b229-f8d8-4db3-8e4b-ff353f009fa3",
   "metadata": {},
   "outputs": [],
   "source": [
    "Swinging = Fastball[Fastball['description'].isin(['swinging_strike', 'swinging_strike_blocked'])]\n",
    "Called = Fastball[Fastball['description']=='called_strike']\n",
    "\n",
    "plt.figure(figsize=(10,10))\n",
    "plt.scatter(Swinging['plate_x_cm'], Swinging['plate_z_cm'], color='red', label='空振り')\n",
    "plt.scatter(Called['plate_x_cm'], Called['plate_z_cm'], color='blue', label='見逃し')\n",
    "\n",
    "plt.title('ストレートの投球位置')\n",
    "plt.xlabel('投球のコース（cm）')\n",
    "plt.ylabel('投球の高さ（cm）')\n",
    "plt.legend(loc='upper right')\n",
    "plt.hlines(y=[50, 110], xmin=-30, xmax=30, color='black')\n",
    "plt.vlines(x=[-30, 30], ymin=50, ymax=110, color='black')\n",
    "plt.xlim(-80, 80)\n",
    "plt.ylim(0, 150)\n",
    "plt.show()"
   ]
  },
  {
   "cell_type": "code",
   "execution_count": null,
   "id": "6f1ef135-e294-477a-bbb4-0bc460eecd75",
   "metadata": {},
   "outputs": [],
   "source": [
    "location = [[0, 0, 0], [0, 0, 0], [0, 0, 0]]\n",
    "total = 0\n",
    "for height, side in zip(Fastball['plate_z_cm'], Fastball['plate_x_cm']):\n",
    "    \n",
    "    if height < 50 or 110 < height:\n",
    "        continue\n",
    "    if side < -30 or 30 < side:\n",
    "        continue\n",
    "    \n",
    "    if 90 < height <= 110:\n",
    "        h = 0\n",
    "    elif 70 <= height <= 90:\n",
    "        h = 1\n",
    "    elif 50 <= height < 70:\n",
    "        h = 2\n",
    "\n",
    "    if -30 <= side < -10:\n",
    "        s = 0\n",
    "    elif -10 <= side <= 10:\n",
    "        s = 1\n",
    "    elif 10 < side <= 30:\n",
    "        s = 2\n",
    "\n",
    "    location[h][s] += 1\n",
    "    total += 1\n",
    "\n",
    "location\n",
    "\n",
    "ratio = []\n",
    "\n",
    "for lst in location:\n",
    "    add = [num/total for num in lst]\n",
    "    ratio.append(add)\n",
    "\n",
    "ratio\n",
    "\n",
    "plt.figure(figsize=(8, 8))\n",
    "plt.imshow(ratio, cmap='OrRd')\n",
    "\n",
    "plt.colorbar()\n",
    "plt.clim(0, 0.2)\n",
    "plt.title('ストレートのコース別投球割合')\n",
    "plt.xticks([0, 1, 2], ['三塁側', '真ん中', '一塁側'])\n",
    "plt.yticks([0, 1, 2], ['高め', '真ん中', '低め'])\n",
    "plt.show()"
   ]
  },
  {
   "cell_type": "code",
   "execution_count": null,
   "id": "9883b233-5715-4b3f-9c65-2f873558bb83",
   "metadata": {},
   "outputs": [],
   "source": [
    "def create_heatmap(data, title):\n",
    "    # コース別に集計するためのリスト作成\n",
    "    location = [[0, 0, 0], [0, 0, 0], [0, 0, 0]]\n",
    "    sum = 0\n",
    "\n",
    "    for height, side in zip(Fastball['plate_z_cm'], Fastball['plate_x_cm']):\n",
    "        \n",
    "        if height < 50 or 110 < height:\n",
    "            continue\n",
    "        if side < -30 or 30 < side:\n",
    "            continue\n",
    "        \n",
    "        if 90 < height <= 110:\n",
    "            h = 0\n",
    "        elif 70 <= height <= 90:\n",
    "            h = 1\n",
    "        elif 50 <= height < 70:\n",
    "            h = 2\n",
    "    \n",
    "        if -30 <= side < -10:\n",
    "            s = 0\n",
    "        elif -10 <= side <= 10:\n",
    "            s = 1\n",
    "        elif 10 < side <= 30:\n",
    "            s = 2\n",
    "    \n",
    "        location[h][s] += 1\n",
    "        sum += 1\n",
    "\n",
    "    # コース別の投球割合を計算\n",
    "    ratio = []\n",
    "\n",
    "    for lst in location:\n",
    "        add = [num/sum for num in lst]\n",
    "        ratio.append(add)\n",
    "\n",
    "    # ヒートマップの作成\n",
    "    plt.figure(figsize=(8, 8))\n",
    "    plt.imshow(ratio, cmap='OrRd')\n",
    "\n",
    "    # 見た目の調整\n",
    "    plt.colorbar()\n",
    "    plt.clim(0, 0.2)\n",
    "    plt.title(title)\n",
    "    plt.xticks([0, 1, 2], ['三塁側', '真ん中', '一塁側'])\n",
    "    plt.yticks([0, 1, 2], ['高め', '真ん中', '低め'])\n",
    "    plt.show()"
   ]
  },
  {
   "cell_type": "code",
   "execution_count": null,
   "id": "775ad92f-0fa9-4e24-ac7c-d81e55d929f0",
   "metadata": {},
   "outputs": [],
   "source": [
    "Fastball_Right = Fastball[Fastball['stand']=='R']\n",
    "Fastball_Left = Fastball[Fastball['stand']=='L']\n",
    "\n",
    "create_heatmap(Fastball_Right, 'ストレートのコース別投球割合（対右打者）')\n",
    "create_heatmap(Fastball_Left, 'ストレートのコース別投球割合（対左打者）')"
   ]
  },
  {
   "cell_type": "code",
   "execution_count": null,
   "id": "991e2257-17da-4f4f-b2e2-61107bbff9a0",
   "metadata": {},
   "outputs": [],
   "source": [
    "df['release_pos_x_cm'] = df['release_pos_x'] * 30.48\n",
    "df['release_pos_z_cm'] = df['release_pos_z'] * 30.48\n",
    "\n",
    "Fastball = df[df['pitch_type']=='FF'] #ストレート\n",
    "Slider = df[df['pitch_type']=='SL'] #スライダー\n",
    "Sinker = df[df['pitch_type']=='SI'] #シンカー\n",
    "Splitter = df[df['pitch_type']=='FS'] #スプリット\n",
    "\n",
    "plt.boxplot([Fastball['release_pos_z_cm'],\n",
    "             Slider['release_pos_z_cm'],\n",
    "             Sinker['release_pos_z_cm'],\n",
    "             Splitter['release_pos_z_cm']],\n",
    "             labels=['ストレート', 'スライダー', 'シンカー', 'スプリット'])\n",
    "plt.ylabel('上下リリース位置（cm）')\n",
    "plt.title('球種別のリリース位置（高さ）')\n",
    "plt.show()"
   ]
  },
  {
   "cell_type": "code",
   "execution_count": null,
   "id": "9c01664e-ed7f-4731-8cfd-9786063782d1",
   "metadata": {},
   "outputs": [],
   "source": [
    "plt.boxplot([Fastball['release_pos_z_cm'],\n",
    "             Slider['release_pos_z_cm'],\n",
    "             Sinker['release_pos_z_cm'],\n",
    "             Splitter['release_pos_z_cm']],\n",
    "             labels=['ストレート', 'スライダー', 'シンカー', 'スプリット'],\n",
    "             vert=False)\n",
    "plt.ylabel('上下リリース位置（cm）')\n",
    "plt.title('球種別のリリース位置（高さ）')\n",
    "plt.show()"
   ]
  },
  {
   "cell_type": "code",
   "execution_count": null,
   "id": "dc882d80-b65f-437a-93f8-19f7165eccd2",
   "metadata": {},
   "outputs": [],
   "source": []
  }
 ],
 "metadata": {
  "kernelspec": {
   "display_name": "Python 3 (ipykernel)",
   "language": "python",
   "name": "python3"
  },
  "language_info": {
   "codemirror_mode": {
    "name": "ipython",
    "version": 3
   },
   "file_extension": ".py",
   "mimetype": "text/x-python",
   "name": "python",
   "nbconvert_exporter": "python",
   "pygments_lexer": "ipython3",
   "version": "3.11.5"
  }
 },
 "nbformat": 4,
 "nbformat_minor": 5
}
